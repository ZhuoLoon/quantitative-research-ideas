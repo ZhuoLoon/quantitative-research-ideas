{
 "cells": [
  {
   "cell_type": "code",
   "execution_count": 1,
   "metadata": {},
   "outputs": [],
   "source": [
    "import numpy as np\n",
    "import pandas as pd\n",
    "import yfinance as yf\n",
    "import os\n",
    "import sys\n",
    "\n",
    "sys.path.append(os.getcwd()[:-10])\n",
    "from utils.performance_metrics import *\n",
    "from serial_momentum_functions import *"
   ]
  },
  {
   "cell_type": "markdown",
   "metadata": {},
   "source": [
    "### In this notebook we will build a serial momentum strategy\n",
    "\n",
    "There are several ways to determine if momentum exists in a time series (e.g Hurst, (P)ACF), but the simplest and most intuitive idea is when past returns of a price series are positively correlated with future returns.\n",
    "\n",
    "The first step is to find optimal pair of past and future periods that gives the highest positive correlation and use that as our look-back and holding period for our momentum strategy. Once the optimal pair has been found, a simple strategy can be built -- take a long (short) position when past returns are positive (negative), and hold onto that position for the future period.\n",
    "\n",
    "We will split our data into a training set (2010/01/01 - 2017/01/01) and a test set (2017/01/01 - 2020/01/01). Parameters are optimised on the training set and test set will be used to evaluate overall performance."
   ]
  },
  {
   "cell_type": "code",
   "execution_count": 2,
   "metadata": {},
   "outputs": [
    {
     "name": "stdout",
     "output_type": "stream",
     "text": [
      "[*********************100%***********************]  1 of 1 completed\n"
     ]
    },
    {
     "data": {
      "text/plain": [
       "<AxesSubplot:xlabel='Date'>"
      ]
     },
     "execution_count": 2,
     "metadata": {},
     "output_type": "execute_result"
    },
    {
     "data": {
      "image/png": "[encoded data removed]",
      "text/plain": [
       "<Figure size 432x288 with 1 Axes>"
      ]
     },
     "metadata": {
      "needs_background": "light"
     },
     "output_type": "display_data"
    }
   ],
   "source": [
    "price_data = yf.download('GS',\n",
    "                         start='2010-01-01',\n",
    "                         end='2017-01-01')['Adj Close']\n",
    "\n",
    "price_data.plot()"
   ]
  },
  {
   "cell_type": "markdown",
   "metadata": {},
   "source": [
    "### Optimising past and future pairs through a gridsearch.\n",
    "\n",
    "Objectives are the Pearson correlation coefficient, and p-value (probability of an uncorrelated data set producing the correlation results).\n",
    "\n",
    "Based on the results, lookback=30, forward=25 appears to be optimal"
   ]
  },
  {
   "cell_type": "code",
   "execution_count": 3,
   "metadata": {},
   "outputs": [],
   "source": [
    "results =\\\n",
    "    gridsearch_lookback_forward_periods(prices = price_data.values,\n",
    "                                        parameters = {'lookback': np.arange(5, 60) * 5,\n",
    "                                                      'forward': np.arange(1, 10) * 5})\n"
   ]
  },
  {
   "cell_type": "code",
   "execution_count": 4,
   "metadata": {
    "scrolled": true
   },
   "outputs": [
    {
     "data": {
      "text/html": [
       "<div>\n",
       "<style scoped>\n",
       "    .dataframe tbody tr th:only-of-type {\n",
       "        vertical-align: middle;\n",
       "    }\n",
       "\n",
       "    .dataframe tbody tr th {\n",
       "        vertical-align: top;\n",
       "    }\n",
       "\n",
       "    .dataframe thead th {\n",
       "        text-align: right;\n",
       "    }\n",
       "</style>\n",
       "<table border=\"1\" class=\"dataframe\">\n",
       "  <thead>\n",
       "    <tr style=\"text-align: right;\">\n",
       "      <th></th>\n",
       "      <th>lookback</th>\n",
       "      <th>forward</th>\n",
       "      <th>correlation_coefficient</th>\n",
       "      <th>p_value</th>\n",
       "    </tr>\n",
       "  </thead>\n",
       "  <tbody>\n",
       "    <tr>\n",
       "      <th>13</th>\n",
       "      <td>30</td>\n",
       "      <td>25</td>\n",
       "      <td>0.231335</td>\n",
       "      <td>0.055807</td>\n",
       "    </tr>\n",
       "    <tr>\n",
       "      <th>3</th>\n",
       "      <td>25</td>\n",
       "      <td>20</td>\n",
       "      <td>0.193342</td>\n",
       "      <td>0.074486</td>\n",
       "    </tr>\n",
       "    <tr>\n",
       "      <th>12</th>\n",
       "      <td>30</td>\n",
       "      <td>20</td>\n",
       "      <td>0.163342</td>\n",
       "      <td>0.132912</td>\n",
       "    </tr>\n",
       "    <tr>\n",
       "      <th>1</th>\n",
       "      <td>25</td>\n",
       "      <td>10</td>\n",
       "      <td>0.149629</td>\n",
       "      <td>0.049429</td>\n",
       "    </tr>\n",
       "    <tr>\n",
       "      <th>21</th>\n",
       "      <td>35</td>\n",
       "      <td>20</td>\n",
       "      <td>0.132540</td>\n",
       "      <td>0.223788</td>\n",
       "    </tr>\n",
       "  </tbody>\n",
       "</table>\n",
       "</div>"
      ],
      "text/plain": [
       "    lookback  forward  correlation_coefficient   p_value\n",
       "13        30       25                 0.231335  0.055807\n",
       "3         25       20                 0.193342  0.074486\n",
       "12        30       20                 0.163342  0.132912\n",
       "1         25       10                 0.149629  0.049429\n",
       "21        35       20                 0.132540  0.223788"
      ]
     },
     "execution_count": 4,
     "metadata": {},
     "output_type": "execute_result"
    }
   ],
   "source": [
    "results.sort_values(by='correlation_coefficient', ascending=False).head()"
   ]
  },
  {
   "cell_type": "code",
   "execution_count": 5,
   "metadata": {},
   "outputs": [
    {
     "data": {
      "text/html": [
       "<div>\n",
       "<style scoped>\n",
       "    .dataframe tbody tr th:only-of-type {\n",
       "        vertical-align: middle;\n",
       "    }\n",
       "\n",
       "    .dataframe tbody tr th {\n",
       "        vertical-align: top;\n",
       "    }\n",
       "\n",
       "    .dataframe thead th {\n",
       "        text-align: right;\n",
       "    }\n",
       "</style>\n",
       "<table border=\"1\" class=\"dataframe\">\n",
       "  <thead>\n",
       "    <tr style=\"text-align: right;\">\n",
       "      <th></th>\n",
       "      <th>lookback</th>\n",
       "      <th>forward</th>\n",
       "      <th>correlation_coefficient</th>\n",
       "      <th>p_value</th>\n",
       "    </tr>\n",
       "  </thead>\n",
       "  <tbody>\n",
       "    <tr>\n",
       "      <th>1</th>\n",
       "      <td>25</td>\n",
       "      <td>10</td>\n",
       "      <td>0.149629</td>\n",
       "      <td>0.049429</td>\n",
       "    </tr>\n",
       "    <tr>\n",
       "      <th>13</th>\n",
       "      <td>30</td>\n",
       "      <td>25</td>\n",
       "      <td>0.231335</td>\n",
       "      <td>0.055807</td>\n",
       "    </tr>\n",
       "    <tr>\n",
       "      <th>3</th>\n",
       "      <td>25</td>\n",
       "      <td>20</td>\n",
       "      <td>0.193342</td>\n",
       "      <td>0.074486</td>\n",
       "    </tr>\n",
       "    <tr>\n",
       "      <th>19</th>\n",
       "      <td>35</td>\n",
       "      <td>10</td>\n",
       "      <td>0.127768</td>\n",
       "      <td>0.094861</td>\n",
       "    </tr>\n",
       "    <tr>\n",
       "      <th>12</th>\n",
       "      <td>30</td>\n",
       "      <td>20</td>\n",
       "      <td>0.163342</td>\n",
       "      <td>0.132912</td>\n",
       "    </tr>\n",
       "  </tbody>\n",
       "</table>\n",
       "</div>"
      ],
      "text/plain": [
       "    lookback  forward  correlation_coefficient   p_value\n",
       "1         25       10                 0.149629  0.049429\n",
       "13        30       25                 0.231335  0.055807\n",
       "3         25       20                 0.193342  0.074486\n",
       "19        35       10                 0.127768  0.094861\n",
       "12        30       20                 0.163342  0.132912"
      ]
     },
     "execution_count": 5,
     "metadata": {},
     "output_type": "execute_result"
    }
   ],
   "source": [
    "results.sort_values(by='p_value').head()"
   ]
  },
  {
   "cell_type": "markdown",
   "metadata": {},
   "source": [
    "### Implementing Hurst exponents as stop losses\n",
    "\n",
    "With the optimal pair, we can go ahead and build the simple momentum strategy as stated above. However, the simple strategy only specifies a holding period, and we exit a position when we reached that holding period. As Ernest Chan suggested, we should impose stop losses as an addiotnal exit condition to improve momentum strategies.\n",
    "\n",
    "One idea is to use Hurst exponents to determine the current regime behaviour. The hurst exponent calculated on the __log prices__ of a time series, H, helps us identify whether the series is mean reverting, random walking or trending. H takes values in [0, 1] and we have the result:\n",
    "\n",
    "\\begin{align*}\n",
    "&H \\ll 0.5 & \\text{mean-reverting} \\\\\n",
    "&H \\approx 0.5 & \\text{random walk} \\\\\n",
    "&H \\gg 0.5 & \\text{trending}\n",
    "\\end{align*}\n",
    "\n",
    "This provides an additional rule for when we should enter or exit trades. By applying hurst calculations on a rolling window, we should enter trades only when we believe the regime is trending, and exit trades either when we have reached the holding period, or when the regime switches to a mean-reverting one. The rolling window size is naturally the lookback period.\n",
    "\n",
    "References:\n",
    "- Michael L. Halls Moore. Successful Algorithmic Trading. \n",
    "- Ernest P. Chan. Algorithmic Trading.  John Wiley & Sons Inc."
   ]
  },
  {
   "cell_type": "code",
   "execution_count": 6,
   "metadata": {},
   "outputs": [],
   "source": [
    "# optimal past-future pair from grid search\n",
    "lookback = 30\n",
    "forward = 25\n",
    "\n",
    "# hyperparameters\n",
    "entry_hurst = 0.6\n",
    "exit_hurst = 0.4\n",
    "\n",
    "# rolling window of hurst exponents\n",
    "hurst_exponents = generate_hurst_array(log_prices=np.log(price_data.values),\n",
    "                                       rolling_window=lookback)\n",
    "\n",
    "# past returns\n",
    "past_returns = price_data.pct_change(lookback)"
   ]
  },
  {
   "cell_type": "markdown",
   "metadata": {},
   "source": [
    "### Creating portfolio positions"
   ]
  },
  {
   "cell_type": "code",
   "execution_count": 7,
   "metadata": {},
   "outputs": [],
   "source": [
    "portfolio_positions = np.zeros(past_returns.size)\n",
    "trade_entry_index = 0\n",
    "\n",
    "for index in range(1, portfolio_positions.size):\n",
    "    # hurst exponent above entry threshold, regime likely to be trending, enter trade\n",
    "    if hurst_exponents[index] > entry_hurst and not trade_entry_index:\n",
    "        # long if past returns positive, short if negative\n",
    "        portfolio_positions[index] = np.sign(past_returns[index])\n",
    "        trade_entry_index = index\n",
    "\n",
    "    # hurst exponent below exit threshold, regime likely changed to mean reverting, exit trade\n",
    "    if hurst_exponents[index] < exit_hurst:\n",
    "        portfolio_positions[index] = 0\n",
    "        trade_entry_index = 0\n",
    "\n",
    "    # hurst exponent doesn't hit any threshold, but reached maximum holding period\n",
    "    if portfolio_positions[index - 1] != 0 and (index - trade_entry_index) > forward:\n",
    "        portfolio_positions[index] = 0\n",
    "        trade_entry_index = 0\n",
    "\n",
    "    # forward filling positions when time/pnl stops not hit\n",
    "    if portfolio_positions[index - 1] != 0 and trade_entry_index:\n",
    "        portfolio_positions[index] = portfolio_positions[index - 1]\n",
    "\n",
    "# convert data structures to necessary formats for calculating pnl\n",
    "portfolio_positions = pd.Series(portfolio_positions, index=price_data.index)\n",
    "portfolio_ratios = np.sign(price_data).to_frame()"
   ]
  },
  {
   "cell_type": "code",
   "execution_count": 8,
   "metadata": {},
   "outputs": [
    {
     "name": "stdout",
     "output_type": "stream",
     "text": [
      "Annual returns: 0.064\n",
      "Sharpe ratio: 0.978\n"
     ]
    },
    {
     "data": {
      "image/png": "[encoded data removed]",
      "text/plain": [
       "<Figure size 432x288 with 1 Axes>"
      ]
     },
     "metadata": {
      "needs_background": "light"
     },
     "output_type": "display_data"
    }
   ],
   "source": [
    "annual_returns, sharpe_ratio =\\\n",
    "    calculate_pnl_with_transaction_costs(price_data=price_data.to_frame(),\n",
    "                                         positions=portfolio_positions,\n",
    "                                         portfolio_ratios=portfolio_ratios,\n",
    "                                         commissions_in_percent=0.25,\n",
    "                                         bid_ask_spread=0.01)\n",
    "\n",
    "print(f\"Annual returns: {annual_returns}\")\n",
    "print(f\"Sharpe ratio: {sharpe_ratio}\")"
   ]
  },
  {
   "cell_type": "markdown",
   "metadata": {},
   "source": [
    "### Conclusion\n",
    "\n",
    "The annual returns and sharpe ratio aren't too impressive after accounting for transaction costs. This is expected since we are using a simple strategy with unoptimised hyperparameters.\n",
    "\n",
    "In the next notebook we will tune hyperparameters via gridsearching and test out the strategy performance on out-of-sample data."
   ]
  }
 ],
 "metadata": {
  "kernelspec": {
   "display_name": "Python 3",
   "language": "python",
   "name": "python3"
  },
  "language_info": {
   "codemirror_mode": {
    "name": "ipython",
    "version": 3
   },
   "file_extension": ".py",
   "mimetype": "text/x-python",
   "name": "python",
   "nbconvert_exporter": "python",
   "pygments_lexer": "ipython3",
   "version": "3.8.5"
  }
 },
 "nbformat": 4,
 "nbformat_minor": 4
}
