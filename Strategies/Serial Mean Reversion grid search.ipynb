{
 "cells": [
  {
   "cell_type": "code",
   "execution_count": 1,
   "metadata": {},
   "outputs": [],
   "source": [
    "import pandas as pd\n",
    "import yfinance as yf\n",
    "import os\n",
    "import sys\n",
    "\n",
    "sys.path.append(os.getcwd()[:-10])\n",
    "from kalman_filter import *\n",
    "from utils.performance_metrics import *"
   ]
  },
  {
   "cell_type": "markdown",
   "metadata": {},
   "source": [
    "### Grid searching for hyperparameter tuning\n",
    "\n",
    "In the first notebook, we discussed the basic ideas of a serial position spread mean reversion strategy, from finding hedge ratios using Kalman filter to creating positions via Bollinger bands.\n",
    "\n",
    "The next idea is to tune hyperparameters. While there are many industrial methods (e.g optuna), we'll use a simple grid search for this project."
   ]
  },
  {
   "cell_type": "code",
   "execution_count": 2,
   "metadata": {},
   "outputs": [
    {
     "name": "stdout",
     "output_type": "stream",
     "text": [
      "[*********************100%***********************]  2 of 2 completed\n"
     ]
    }
   ],
   "source": [
    "security_1 = 'MSFT'\n",
    "security_2 = 'V'\n",
    "tickers = [security_1, security_2]\n",
    "\n",
    "train_data = yf.download(tickers=tickers,\n",
    "                            start='2010-01-01',\n",
    "                            end='2017-01-01')['Adj Close']\n",
    "\n",
    "train_data = train_data[tickers]"
   ]
  },
  {
   "cell_type": "code",
   "execution_count": 3,
   "metadata": {},
   "outputs": [
    {
     "name": "stderr",
     "output_type": "stream",
     "text": [
      "100%|████████████████████████████████████████████████████████████████████████████████| 140/140 [00:05<00:00, 27.34it/s]\n"
     ]
    }
   ],
   "source": [
    "gridsearch_results = grid_search(price_data=train_data,\n",
    "                                 strategy=kalman_filter_strategy,\n",
    "                                 hyperparameters={'learning_rate': [5e-4, 3e-4,1e-4,7e-5,5e-5,3e-5,1e-5],\n",
    "                                                  'covariance': [1e-3,7e-4,5e-4,3e-4,1e-4],\n",
    "                                                  'zscore_threshold': [1.5, 2, 2.5, 3]},\n",
    "                                 commissions_in_percent=0.25,\n",
    "                                 bid_ask_spread=0.01)"
   ]
  },
  {
   "cell_type": "code",
   "execution_count": 4,
   "metadata": {},
   "outputs": [
    {
     "data": {
      "text/html": [
       "<div>\n",
       "<style scoped>\n",
       "    .dataframe tbody tr th:only-of-type {\n",
       "        vertical-align: middle;\n",
       "    }\n",
       "\n",
       "    .dataframe tbody tr th {\n",
       "        vertical-align: top;\n",
       "    }\n",
       "\n",
       "    .dataframe thead th {\n",
       "        text-align: right;\n",
       "    }\n",
       "</style>\n",
       "<table border=\"1\" class=\"dataframe\">\n",
       "  <thead>\n",
       "    <tr style=\"text-align: right;\">\n",
       "      <th></th>\n",
       "      <th>learning_rate</th>\n",
       "      <th>covariance</th>\n",
       "      <th>zscore_threshold</th>\n",
       "      <th>annual_returns</th>\n",
       "      <th>sharpe_ratio</th>\n",
       "    </tr>\n",
       "  </thead>\n",
       "  <tbody>\n",
       "    <tr>\n",
       "      <th>28</th>\n",
       "      <td>0.0003</td>\n",
       "      <td>0.0010</td>\n",
       "      <td>3.0</td>\n",
       "      <td>0.029</td>\n",
       "      <td>7.177</td>\n",
       "    </tr>\n",
       "    <tr>\n",
       "      <th>85</th>\n",
       "      <td>0.0003</td>\n",
       "      <td>0.0003</td>\n",
       "      <td>3.0</td>\n",
       "      <td>0.029</td>\n",
       "      <td>7.177</td>\n",
       "    </tr>\n",
       "    <tr>\n",
       "      <th>120</th>\n",
       "      <td>0.0003</td>\n",
       "      <td>0.0005</td>\n",
       "      <td>3.0</td>\n",
       "      <td>0.029</td>\n",
       "      <td>7.177</td>\n",
       "    </tr>\n",
       "    <tr>\n",
       "      <th>129</th>\n",
       "      <td>0.0003</td>\n",
       "      <td>0.0001</td>\n",
       "      <td>3.0</td>\n",
       "      <td>0.029</td>\n",
       "      <td>7.177</td>\n",
       "    </tr>\n",
       "    <tr>\n",
       "      <th>124</th>\n",
       "      <td>0.0003</td>\n",
       "      <td>0.0007</td>\n",
       "      <td>3.0</td>\n",
       "      <td>0.029</td>\n",
       "      <td>7.177</td>\n",
       "    </tr>\n",
       "  </tbody>\n",
       "</table>\n",
       "</div>"
      ],
      "text/plain": [
       "     learning_rate  covariance  zscore_threshold  annual_returns  sharpe_ratio\n",
       "28          0.0003      0.0010               3.0           0.029         7.177\n",
       "85          0.0003      0.0003               3.0           0.029         7.177\n",
       "120         0.0003      0.0005               3.0           0.029         7.177\n",
       "129         0.0003      0.0001               3.0           0.029         7.177\n",
       "124         0.0003      0.0007               3.0           0.029         7.177"
      ]
     },
     "execution_count": 4,
     "metadata": {},
     "output_type": "execute_result"
    }
   ],
   "source": [
    "gridsearch_results.sort_values('sharpe_ratio', ascending=False).head()"
   ]
  },
  {
   "cell_type": "code",
   "execution_count": 5,
   "metadata": {},
   "outputs": [
    {
     "data": {
      "text/html": [
       "<div>\n",
       "<style scoped>\n",
       "    .dataframe tbody tr th:only-of-type {\n",
       "        vertical-align: middle;\n",
       "    }\n",
       "\n",
       "    .dataframe tbody tr th {\n",
       "        vertical-align: top;\n",
       "    }\n",
       "\n",
       "    .dataframe thead th {\n",
       "        text-align: right;\n",
       "    }\n",
       "</style>\n",
       "<table border=\"1\" class=\"dataframe\">\n",
       "  <thead>\n",
       "    <tr style=\"text-align: right;\">\n",
       "      <th></th>\n",
       "      <th>learning_rate</th>\n",
       "      <th>covariance</th>\n",
       "      <th>zscore_threshold</th>\n",
       "      <th>annual_returns</th>\n",
       "      <th>sharpe_ratio</th>\n",
       "    </tr>\n",
       "  </thead>\n",
       "  <tbody>\n",
       "    <tr>\n",
       "      <th>43</th>\n",
       "      <td>0.00005</td>\n",
       "      <td>0.0007</td>\n",
       "      <td>1.5</td>\n",
       "      <td>0.105</td>\n",
       "      <td>1.339</td>\n",
       "    </tr>\n",
       "    <tr>\n",
       "      <th>118</th>\n",
       "      <td>0.00005</td>\n",
       "      <td>0.0010</td>\n",
       "      <td>1.5</td>\n",
       "      <td>0.105</td>\n",
       "      <td>1.350</td>\n",
       "    </tr>\n",
       "    <tr>\n",
       "      <th>1</th>\n",
       "      <td>0.00003</td>\n",
       "      <td>0.0005</td>\n",
       "      <td>2.0</td>\n",
       "      <td>0.103</td>\n",
       "      <td>1.351</td>\n",
       "    </tr>\n",
       "    <tr>\n",
       "      <th>56</th>\n",
       "      <td>0.00005</td>\n",
       "      <td>0.0005</td>\n",
       "      <td>1.5</td>\n",
       "      <td>0.101</td>\n",
       "      <td>1.297</td>\n",
       "    </tr>\n",
       "    <tr>\n",
       "      <th>137</th>\n",
       "      <td>0.00003</td>\n",
       "      <td>0.0007</td>\n",
       "      <td>2.0</td>\n",
       "      <td>0.101</td>\n",
       "      <td>1.335</td>\n",
       "    </tr>\n",
       "  </tbody>\n",
       "</table>\n",
       "</div>"
      ],
      "text/plain": [
       "     learning_rate  covariance  zscore_threshold  annual_returns  sharpe_ratio\n",
       "43         0.00005      0.0007               1.5           0.105         1.339\n",
       "118        0.00005      0.0010               1.5           0.105         1.350\n",
       "1          0.00003      0.0005               2.0           0.103         1.351\n",
       "56         0.00005      0.0005               1.5           0.101         1.297\n",
       "137        0.00003      0.0007               2.0           0.101         1.335"
      ]
     },
     "execution_count": 5,
     "metadata": {},
     "output_type": "execute_result"
    }
   ],
   "source": [
    "gridsearch_results.sort_values('annual_returns', ascending=False).head()"
   ]
  },
  {
   "cell_type": "markdown",
   "metadata": {},
   "source": [
    "### Observations\n",
    "\n",
    "There is an obvious trade-off between sharpe ratios and annual returns. For strategies with very high sharpe ratios, these values are inflated due to the extremely small number of trades made; the strategy is playing it too safe and losing out on opportunities.\n",
    "\n",
    "Let's use iteration #118 for our out-of-sample test"
   ]
  },
  {
   "cell_type": "code",
   "execution_count": 6,
   "metadata": {},
   "outputs": [
    {
     "name": "stdout",
     "output_type": "stream",
     "text": [
      "[*********************100%***********************]  2 of 2 completed\n"
     ]
    }
   ],
   "source": [
    "test_data = yf.download(tickers=tickers,\n",
    "                        start='2017-01-01',\n",
    "                        end='2020-01-01')['Adj Close']\n",
    "\n",
    "test_data = test_data[tickers]"
   ]
  },
  {
   "cell_type": "code",
   "execution_count": 7,
   "metadata": {},
   "outputs": [
    {
     "name": "stdout",
     "output_type": "stream",
     "text": [
      "Annual returns: 0.093\n",
      "Sharpe ratio: 3.272\n"
     ]
    },
    {
     "data": {
      "image/png": "[encoded data removed]",
      "text/plain": [
       "<Figure size 432x288 with 1 Axes>"
      ]
     },
     "metadata": {
      "needs_background": "light"
     },
     "output_type": "display_data"
    }
   ],
   "source": [
    "tuned_parameters = gridsearch_results.loc[118]\n",
    "\n",
    "positions, hedge_ratios = kalman_filter_strategy(price_data=test_data,\n",
    "                                                 learning_rate=tuned_parameters.learning_rate,\n",
    "                                                 covariance=tuned_parameters.covariance,\n",
    "                                                 zscore_threshold=tuned_parameters.zscore_threshold)\n",
    "\n",
    "annual_returns, sharpe_ratio =\\\n",
    "    calculate_pnl_with_transaction_costs(price_data = test_data,\n",
    "                                         positions = positions,\n",
    "                                         portfolio_ratios = hedge_ratios,\n",
    "                                         commissions_in_percent = 0.25,\n",
    "                                         bid_ask_spread = 0.01)\n",
    "\n",
    "print(f\"Annual returns: {annual_returns}\")\n",
    "print(f\"Sharpe ratio: {sharpe_ratio}\")"
   ]
  },
  {
   "cell_type": "markdown",
   "metadata": {},
   "source": [
    "### Observations\n",
    "\n",
    "Surprisingly, the test results seem to outperform the training results! This is rare, as out-of-sample performance tends to be worse than in-sample. \n",
    "\n",
    "This could simply be a stroke of luck; so one should follow up with an events-based backtest and paper trading to evaluate strategy performance in more realistic scenarios."
   ]
  },
  {
   "cell_type": "markdown",
   "metadata": {},
   "source": [
    "### Improvements\n",
    "\n",
    "Vectorised backtests tend to inflate strategy performance due to numerous simplifying assumptions made. Since we are solving a highly simplified problem, it should not come as a surprise that the results are better too.\n",
    "\n",
    "Although the results above seem promising, an events-based backtest is necessary to improve statistical significance of results. \n",
    "\n",
    "Other improvements include:\n",
    "\n",
    "- Volume sampling: using volume clock rather than human time clock to capture information uniformly.\n",
    "- Johansen tests / ADF tests: hypothesis testing for stationarity, and trade only when we are confident that spread is truly stationary.\n",
    "- Halflife calculations: The core of any mean reversion strategy, this measures the speed at which prices revert to their mean. One should setup timestops based on halflife calculations, to cut loss when prices do not revert as fast as expected.\n",
    "- Rolling windows: Using a rolling window allows us to capture short term relationship as long term ones are rare. This works better with more granular data (events-based).\n",
    "- Johansen / CADF methods: getting hedge ratios on a rolling window allows us to build spreads based on short term relationships, but works only with more granular data.\n",
    "- Triple barrier method: Recommended by Marcos López de Prado, provides a framework for taking profits, cutting losses and hitting timestops."
   ]
  }
 ],
 "metadata": {
  "kernelspec": {
   "display_name": "Python 3",
   "language": "python",
   "name": "python3"
  },
  "language_info": {
   "codemirror_mode": {
    "name": "ipython",
    "version": 3
   },
   "file_extension": ".py",
   "mimetype": "text/x-python",
   "name": "python",
   "nbconvert_exporter": "python",
   "pygments_lexer": "ipython3",
   "version": "3.8.5"
  }
 },
 "nbformat": 4,
 "nbformat_minor": 4
}
