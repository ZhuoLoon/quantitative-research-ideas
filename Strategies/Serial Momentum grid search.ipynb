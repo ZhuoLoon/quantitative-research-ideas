{
 "cells": [
  {
   "cell_type": "code",
   "execution_count": 1,
   "metadata": {},
   "outputs": [],
   "source": [
    "import numpy as np\n",
    "import pandas as pd\n",
    "import yfinance as yf\n",
    "import os\n",
    "import sys\n",
    "\n",
    "sys.path.append(os.getcwd()[:-10])\n",
    "from functools import partial\n",
    "from utils.performance_metrics import *\n",
    "from serial_momentum_functions import *"
   ]
  },
  {
   "cell_type": "markdown",
   "metadata": {},
   "source": [
    "### Grid searching for hyperparameter tuning\n",
    "\n",
    "In the first notebook, we discussed the basic ideas of a serial momentum strategy, from finding optimal past-future pairs that maximises correlation of returns, to creating positions via Hurst exponents.\n",
    "\n",
    "The next idea is to tune hyperparameters. While there are many industrial methods (e.g optuna), we'll use a simple grid search for this project."
   ]
  },
  {
   "cell_type": "code",
   "execution_count": 2,
   "metadata": {},
   "outputs": [
    {
     "name": "stdout",
     "output_type": "stream",
     "text": [
      "[*********************100%***********************]  1 of 1 completed\n"
     ]
    }
   ],
   "source": [
    "train_data = yf.download('GS',\n",
    "                         start='2010-01-01',\n",
    "                         end='2017-01-01')['Adj Close']"
   ]
  },
  {
   "cell_type": "code",
   "execution_count": 3,
   "metadata": {},
   "outputs": [],
   "source": [
    "# optimal past-future pair\n",
    "lookback = 30\n",
    "forward = 25\n",
    "\n",
    "# rolling window of hurst exponents\n",
    "hurst_exponents = generate_hurst_array(log_prices=np.log(train_data.values),\n",
    "                                       rolling_window=lookback)\n",
    "\n",
    "# past returns\n",
    "past_returns = train_data.pct_change(lookback)\n",
    "\n",
    "# feeding hurst exponents and past returns to strategy\n",
    "momentum_strategy = partial(create_portfolio_positions,\n",
    "                            past_returns=past_returns,\n",
    "                            hurst_exponents=hurst_exponents,\n",
    "                            forward=forward)"
   ]
  },
  {
   "cell_type": "code",
   "execution_count": 4,
   "metadata": {},
   "outputs": [
    {
     "name": "stderr",
     "output_type": "stream",
     "text": [
      "100%|███████████████████████████████████████████████████████████████████████████████| 256/256 [00:01<00:00, 181.92it/s]\n"
     ]
    }
   ],
   "source": [
    "gridsearch_results = grid_search(price_data=train_data.to_frame(),\n",
    "                                 strategy=momentum_strategy,\n",
    "                                 hyperparameters={'entry_hurst': np.linspace(0.55, 0.7, 16),\n",
    "                                                  'exit_hurst': np.linspace(0.3, 0.45, 16)},\n",
    "                                 commissions_in_percent=0.25,\n",
    "                                 bid_ask_spread=0.01)"
   ]
  },
  {
   "cell_type": "code",
   "execution_count": 5,
   "metadata": {},
   "outputs": [
    {
     "data": {
      "text/html": [
       "<div>\n",
       "<style scoped>\n",
       "    .dataframe tbody tr th:only-of-type {\n",
       "        vertical-align: middle;\n",
       "    }\n",
       "\n",
       "    .dataframe tbody tr th {\n",
       "        vertical-align: top;\n",
       "    }\n",
       "\n",
       "    .dataframe thead th {\n",
       "        text-align: right;\n",
       "    }\n",
       "</style>\n",
       "<table border=\"1\" class=\"dataframe\">\n",
       "  <thead>\n",
       "    <tr style=\"text-align: right;\">\n",
       "      <th></th>\n",
       "      <th>entry_hurst</th>\n",
       "      <th>exit_hurst</th>\n",
       "      <th>annual_returns</th>\n",
       "      <th>sharpe_ratio</th>\n",
       "    </tr>\n",
       "  </thead>\n",
       "  <tbody>\n",
       "    <tr>\n",
       "      <th>155</th>\n",
       "      <td>0.57</td>\n",
       "      <td>0.43</td>\n",
       "      <td>0.118</td>\n",
       "      <td>1.494</td>\n",
       "    </tr>\n",
       "    <tr>\n",
       "      <th>106</th>\n",
       "      <td>0.58</td>\n",
       "      <td>0.43</td>\n",
       "      <td>0.105</td>\n",
       "      <td>1.454</td>\n",
       "    </tr>\n",
       "    <tr>\n",
       "      <th>140</th>\n",
       "      <td>0.57</td>\n",
       "      <td>0.45</td>\n",
       "      <td>0.108</td>\n",
       "      <td>1.437</td>\n",
       "    </tr>\n",
       "    <tr>\n",
       "      <th>93</th>\n",
       "      <td>0.55</td>\n",
       "      <td>0.45</td>\n",
       "      <td>0.118</td>\n",
       "      <td>1.432</td>\n",
       "    </tr>\n",
       "    <tr>\n",
       "      <th>113</th>\n",
       "      <td>0.58</td>\n",
       "      <td>0.42</td>\n",
       "      <td>0.103</td>\n",
       "      <td>1.421</td>\n",
       "    </tr>\n",
       "  </tbody>\n",
       "</table>\n",
       "</div>"
      ],
      "text/plain": [
       "     entry_hurst  exit_hurst  annual_returns  sharpe_ratio\n",
       "155         0.57        0.43           0.118         1.494\n",
       "106         0.58        0.43           0.105         1.454\n",
       "140         0.57        0.45           0.108         1.437\n",
       "93          0.55        0.45           0.118         1.432\n",
       "113         0.58        0.42           0.103         1.421"
      ]
     },
     "execution_count": 5,
     "metadata": {},
     "output_type": "execute_result"
    }
   ],
   "source": [
    "gridsearch_results.sort_values('sharpe_ratio', ascending=False).head()"
   ]
  },
  {
   "cell_type": "code",
   "execution_count": 6,
   "metadata": {},
   "outputs": [
    {
     "data": {
      "text/html": [
       "<div>\n",
       "<style scoped>\n",
       "    .dataframe tbody tr th:only-of-type {\n",
       "        vertical-align: middle;\n",
       "    }\n",
       "\n",
       "    .dataframe tbody tr th {\n",
       "        vertical-align: top;\n",
       "    }\n",
       "\n",
       "    .dataframe thead th {\n",
       "        text-align: right;\n",
       "    }\n",
       "</style>\n",
       "<table border=\"1\" class=\"dataframe\">\n",
       "  <thead>\n",
       "    <tr style=\"text-align: right;\">\n",
       "      <th></th>\n",
       "      <th>entry_hurst</th>\n",
       "      <th>exit_hurst</th>\n",
       "      <th>annual_returns</th>\n",
       "      <th>sharpe_ratio</th>\n",
       "    </tr>\n",
       "  </thead>\n",
       "  <tbody>\n",
       "    <tr>\n",
       "      <th>155</th>\n",
       "      <td>0.57</td>\n",
       "      <td>0.43</td>\n",
       "      <td>0.118</td>\n",
       "      <td>1.494</td>\n",
       "    </tr>\n",
       "    <tr>\n",
       "      <th>93</th>\n",
       "      <td>0.55</td>\n",
       "      <td>0.45</td>\n",
       "      <td>0.118</td>\n",
       "      <td>1.432</td>\n",
       "    </tr>\n",
       "    <tr>\n",
       "      <th>114</th>\n",
       "      <td>0.55</td>\n",
       "      <td>0.43</td>\n",
       "      <td>0.118</td>\n",
       "      <td>1.397</td>\n",
       "    </tr>\n",
       "    <tr>\n",
       "      <th>139</th>\n",
       "      <td>0.56</td>\n",
       "      <td>0.43</td>\n",
       "      <td>0.114</td>\n",
       "      <td>1.372</td>\n",
       "    </tr>\n",
       "    <tr>\n",
       "      <th>161</th>\n",
       "      <td>0.57</td>\n",
       "      <td>0.42</td>\n",
       "      <td>0.112</td>\n",
       "      <td>1.420</td>\n",
       "    </tr>\n",
       "  </tbody>\n",
       "</table>\n",
       "</div>"
      ],
      "text/plain": [
       "     entry_hurst  exit_hurst  annual_returns  sharpe_ratio\n",
       "155         0.57        0.43           0.118         1.494\n",
       "93          0.55        0.45           0.118         1.432\n",
       "114         0.55        0.43           0.118         1.397\n",
       "139         0.56        0.43           0.114         1.372\n",
       "161         0.57        0.42           0.112         1.420"
      ]
     },
     "execution_count": 6,
     "metadata": {},
     "output_type": "execute_result"
    }
   ],
   "source": [
    "gridsearch_results.sort_values('annual_returns', ascending=False).head()"
   ]
  },
  {
   "cell_type": "markdown",
   "metadata": {},
   "source": [
    "### Observations\n",
    "\n",
    "Unlike the mean reversion results, it seems that we have found a sweet spot that gives us good annual returns and sharpe ratios. Let's use iteration #155 for our out-of-sample test."
   ]
  },
  {
   "cell_type": "code",
   "execution_count": 7,
   "metadata": {},
   "outputs": [
    {
     "name": "stdout",
     "output_type": "stream",
     "text": [
      "[*********************100%***********************]  1 of 1 completed\n"
     ]
    },
    {
     "data": {
      "text/plain": [
       "<AxesSubplot:xlabel='Date'>"
      ]
     },
     "execution_count": 7,
     "metadata": {},
     "output_type": "execute_result"
    },
    {
     "data": {
      "image/png": "[encoded data removed]",
      "text/plain": [
       "<Figure size 432x288 with 1 Axes>"
      ]
     },
     "metadata": {
      "needs_background": "light"
     },
     "output_type": "display_data"
    }
   ],
   "source": [
    "test_data = yf.download('GS',\n",
    "                        start='2017-01-01',\n",
    "                        end='2020-01-01')['Adj Close']\n",
    "\n",
    "test_data.plot()"
   ]
  },
  {
   "cell_type": "code",
   "execution_count": 8,
   "metadata": {},
   "outputs": [],
   "source": [
    "# optimal past-future pair\n",
    "lookback = 30\n",
    "forward = 25\n",
    "\n",
    "# rolling window of hurst exponents\n",
    "hurst_exponents = generate_hurst_array(log_prices=np.log(test_data.values),\n",
    "                                       rolling_window=lookback)\n",
    "\n",
    "# past returns\n",
    "past_returns = test_data.pct_change(lookback)\n",
    "\n",
    "# hyperparameters optimised from grid search\n",
    "optimal_entry_hurst = gridsearch_results.loc[155].entry_hurst\n",
    "optimal_exit_hurst = gridsearch_results.loc[155].exit_hurst"
   ]
  },
  {
   "cell_type": "code",
   "execution_count": 9,
   "metadata": {},
   "outputs": [],
   "source": [
    "positions, portfolio_ratios =\\\n",
    "    create_portfolio_positions(price_data=test_data.to_frame(),\n",
    "                               past_returns=past_returns,\n",
    "                               hurst_exponents=hurst_exponents,\n",
    "                               forward=forward,\n",
    "                               entry_hurst=optimal_entry_hurst,\n",
    "                               exit_hurst=optimal_exit_hurst)"
   ]
  },
  {
   "cell_type": "code",
   "execution_count": 10,
   "metadata": {},
   "outputs": [
    {
     "name": "stdout",
     "output_type": "stream",
     "text": [
      "Annual returns: -0.019\n",
      "Sharpe ratio: -0.137\n"
     ]
    },
    {
     "data": {
      "image/png": "[encoded data removed]",
      "text/plain": [
       "<Figure size 432x288 with 1 Axes>"
      ]
     },
     "metadata": {
      "needs_background": "light"
     },
     "output_type": "display_data"
    }
   ],
   "source": [
    "annual_returns, sharpe_ratio =\\\n",
    "    calculate_pnl_with_transaction_costs(price_data=test_data.to_frame(),\n",
    "                                         positions=positions,\n",
    "                                         portfolio_ratios=portfolio_ratios,\n",
    "                                         commissions_in_percent=0.25,\n",
    "                                         bid_ask_spread=0.01)\n",
    "\n",
    "print(f\"Annual returns: {annual_returns}\")\n",
    "print(f\"Sharpe ratio: {sharpe_ratio}\")"
   ]
  },
  {
   "cell_type": "markdown",
   "metadata": {},
   "source": [
    "### Observations\n",
    "\n",
    "Unfortunately, the test results in this case are poor, with negative returns. This is an example of model overfitting to training data. Momentum based strategies tend to be more difficult to build as they often overfit on the training set and generalise poorly."
   ]
  },
  {
   "cell_type": "markdown",
   "metadata": {},
   "source": [
    "### Improvements\n",
    "\n",
    "Some improvements to the simple momentum strategy are:\n",
    "- Events based backtesting: use higher granularity data and allows more complex strategy behaviours (e.g dynamic capital allocation to strategy based on whether it is winning/losing in past window)\n",
    "- Volume sampling: using volume clock rather than human time clock to capture information uniformly.\n",
    "- Zscore calculations: Alternative to Hurst exponents, calculate zscores over past returns and trade when zscores cross thresholds.\n",
    "- Calculating past returns with linear regression (compare entire lookback period rather than 2 data points)\n",
    "    - Trade only when linear regression fits well (R-squared is above a threshold)\n",
    "- Triple barrier method: Recommended by Marcos López de Prado, provides a framework for taking profits, cutting losses and hitting timestops."
   ]
  }
 ],
 "metadata": {
  "kernelspec": {
   "display_name": "Python 3",
   "language": "python",
   "name": "python3"
  },
  "language_info": {
   "codemirror_mode": {
    "name": "ipython",
    "version": 3
   },
   "file_extension": ".py",
   "mimetype": "text/x-python",
   "name": "python",
   "nbconvert_exporter": "python",
   "pygments_lexer": "ipython3",
   "version": "3.8.5"
  }
 },
 "nbformat": 4,
 "nbformat_minor": 4
}
